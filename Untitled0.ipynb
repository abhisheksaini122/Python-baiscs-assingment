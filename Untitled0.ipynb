{
  "nbformat": 4,
  "nbformat_minor": 0,
  "metadata": {
    "colab": {
      "provenance": []
    },
    "kernelspec": {
      "name": "python3",
      "display_name": "Python 3"
    },
    "language_info": {
      "name": "python"
    }
  },
  "cells": [
    {
      "cell_type": "markdown",
      "source": [
        "1. Explain the key features of Python that make it a popular choice for programming?"
      ],
      "metadata": {
        "id": "eLWtJbJPUYYT"
      }
    },
    {
      "cell_type": "markdown",
      "source": [
        "Answer 1. Key Features of Python\n",
        "1. Easy to Learn: Python has a simple syntax, making it accessible to beginners\n",
        "2. Versatile: Python can be used for web development data analysis machine learning, automation and more\n",
        "3. High-Level Language: Python abstracts away low-level details allowing developers to focus on logic and problem solving\n",
        "4. Dynamic Typing: Pythons  dynamic typing makes it flexible and adaptable\n",
        "5. Extensive Libraries: Python has a vast collection of libraries and frameworks (e.g NumPy, pandas, Django) that simplify development\n",
        "6. Cross Platform: Python can run on multiple operating systems including Windows and Linux.\n",
        "\n",
        "#Rapid Development: Python's syntax and nature enable quick development and prototyping.\n",
        "#Industry Adoption: Python is widely used in various industries, including data science  web development scientific computing etc.\n"
      ],
      "metadata": {
        "id": "-H4V8S6UUpb7"
      }
    },
    {
      "cell_type": "markdown",
      "source": [
        "2.Describe the role of predefined keywords in Python and provide examples of how they are used in a\n",
        "program.\n",
        ">> Python predefined keywords are special words that have specific meanings They help define the structure and logic of a program.\n",
        "\n",
        "Examples:\n",
        "1. if and else for making decisions\n",
        "2. for for repeating actions\n",
        "3. def for defining functions\n",
        "4. try and except for handling errors\n",
        "\n"
      ],
      "metadata": {
        "id": "lKq7Kh8OXDV1"
      }
    },
    {
      "cell_type": "code",
      "source": [
        "x = 5\n",
        "if x > 10:\n",
        "    print(\"x is big\")\n",
        "else:\n",
        "    print(\"x is small\")\n",
        "\n"
      ],
      "metadata": {
        "colab": {
          "base_uri": "https://localhost:8080/"
        },
        "id": "KfIDdPcXXnZi",
        "outputId": "0c84f4d8-a975-44dc-b042-b67027f0b6cb"
      },
      "execution_count": null,
      "outputs": [
        {
          "output_type": "stream",
          "name": "stdout",
          "text": [
            "x is small\n"
          ]
        }
      ]
    },
    {
      "cell_type": "markdown",
      "source": [
        " 3.Compare and contrast mutable and immutable objects in Python with examples.\n",
        "   -> Mutable Objects:\n",
        "      Can be modified after creation\n",
        "      Examples: lists, dictionaries, sets\n",
        "\n",
        "     Immutable Objects:\n",
        "     Cannot be modified after creation.\n",
        "     Examples: integers, floats, strings, tuples.\n",
        "      \n",
        "     Key Differences:\n",
        "      1. Modifiability: Mutable objects can be changed after creation, while\n",
        "         immutable objects cannot.\n",
        "      2. Memory Usage: Immutable objects are more memory efficient since they\n",
        "         can't be changed.\n",
        "      3. Thread Safety: Immutable objects are thread safe since multiple  \n",
        "         threads can't modify them simultaneously.\n",
        "\n"
      ],
      "metadata": {
        "id": "8bDF4YheYIs3"
      }
    },
    {
      "cell_type": "code",
      "source": [
        "\"\"\"Examples:\n",
        "Mutable Object\"\"\"\n",
        "my_list = [1, 2, 3]\n",
        "my_list.append(4)\n",
        "print(my_list)\n"
      ],
      "metadata": {
        "colab": {
          "base_uri": "https://localhost:8080/"
        },
        "id": "mJnaqP26Zc2F",
        "outputId": "32c57f80-8fca-4156-a87c-e5fe4e65b84f"
      },
      "execution_count": null,
      "outputs": [
        {
          "output_type": "stream",
          "name": "stdout",
          "text": [
            "[1, 2, 3, 4]\n"
          ]
        }
      ]
    },
    {
      "cell_type": "code",
      "source": [
        "\"\"\"Examples:\n",
        "Immutable Objects\"\"\"\n",
        "my_string = \"hello\"\n",
        "   my_string[0] = \"H\"\n",
        "\n"
      ],
      "metadata": {
        "colab": {
          "base_uri": "https://localhost:8080/",
          "height": 106
        },
        "id": "K6n23hoqZ0vN",
        "outputId": "064e73ae-afd7-418f-9131-515fbb03f51f"
      },
      "execution_count": null,
      "outputs": [
        {
          "output_type": "error",
          "ename": "IndentationError",
          "evalue": "unexpected indent (<ipython-input-5-ac6188584dc4>, line 4)",
          "traceback": [
            "\u001b[0;36m  File \u001b[0;32m\"<ipython-input-5-ac6188584dc4>\"\u001b[0;36m, line \u001b[0;32m4\u001b[0m\n\u001b[0;31m    my_string[0] = \"H\"\u001b[0m\n\u001b[0m    ^\u001b[0m\n\u001b[0;31mIndentationError\u001b[0m\u001b[0;31m:\u001b[0m unexpected indent\n"
          ]
        }
      ]
    },
    {
      "cell_type": "markdown",
      "source": [
        "4.Discuss the different types of operators in Python and provide examples of how they are used?\n",
        "  -> Types of Operators in Python:\n",
        "\n",
        "      1. Arithmetic Operators: +, -, *, /, **, etc.\n",
        "      2. Comparison Operators: ==, !=, >, <, >= , <=\n",
        "      3. Logical Operators: and, or, not.\n",
        "      4. Assignment Operators: =, += , -=, *=, /=, etc.\n",
        "      5. Bitwise Operators: &, |, ^, ~.\n",
        "      6. Membership Operators: in, not in.\n",
        "      7. Identity Operators: is, is not.\n"
      ],
      "metadata": {
        "id": "yJXQJRqUanuF"
      }
    },
    {
      "cell_type": "code",
      "source": [
        "#EXAMPLE:\n",
        "#Arithmetic Operators:\n",
        "x = 5\n",
        "y = 2\n",
        "print(x + y)\n",
        "print(x * y)\n",
        "\n",
        "# Comparison Operators:\n",
        "x = 5\n",
        "y = 2\n",
        "print(x > y)\n",
        "print(x == y)\n",
        "\n",
        "#Logical Operators:\n",
        "x = True\n",
        "y = False\n",
        "print(x and y)\n",
        "print(x or y)\n",
        "\n",
        "#Assignment Operators:\n",
        "\n",
        "x = 5\n",
        "x += 2\n",
        "print(x)\n",
        "\n",
        "#Membership Operators:\n",
        "fruits = [\"apple\", \"banana\", \"cherry\"]\n",
        "print(\"apple\" in fruits)\n",
        "print(\"grape\" in fruits)\n",
        "\n",
        "\n",
        "\n",
        "\n",
        "\n",
        "\n"
      ],
      "metadata": {
        "colab": {
          "base_uri": "https://localhost:8080/"
        },
        "id": "4bWRYTE3boiq",
        "outputId": "cbf30f53-ec3a-4e2b-cc85-285f0561ba36"
      },
      "execution_count": 6,
      "outputs": [
        {
          "output_type": "stream",
          "name": "stdout",
          "text": [
            "7\n",
            "10\n",
            "True\n",
            "False\n",
            "False\n",
            "True\n",
            "7\n",
            "True\n",
            "False\n"
          ]
        }
      ]
    },
    {
      "cell_type": "markdown",
      "source": [
        "5.Explain the concept of type casting in Python with examples?\n",
        "\n",
        "     -> Type Casting in Python:\n",
        "       Type casting is the process of converting one data type into another. Python supports two types of type casting:\n",
        "\n",
        "    1. Implicit Type Casting: Python automatically converts one data type to another.\n",
        "    2. Explicit Type Casting: Developer manually converts one data type to another using built-in functions.\n",
        "\n"
      ],
      "metadata": {
        "id": "HeuSSSP2dCN-"
      }
    },
    {
      "cell_type": "code",
      "source": [
        "#Examples:\n",
        "#Implicit Type Casting:\n",
        "a = 5\n",
        "b = 3.5\n",
        "result = a + b\n",
        "print(result)  # 8.5\n",
        "print(type(result))\n",
        "\n",
        "#Explicit Type Casting:\n",
        "\n",
        "x = \"10\"\n",
        "y = int(x)\n",
        "print(y)\n",
        "print(type(y))\n",
        "\n",
        "\n",
        "\n"
      ],
      "metadata": {
        "id": "4ody-sQXd7Jy"
      },
      "execution_count": null,
      "outputs": []
    },
    {
      "cell_type": "markdown",
      "source": [
        "\n",
        "6. How do conditional statements work in Python? Illustrate with examples\n",
        "\n",
        "   -> Conditional Statements in Python:\n",
        "      Conditional statements are used to execute different blocks of code based on specific conditions.\n",
        "\n",
        "      Types of Conditional Statements:\n",
        "      1. If Statement: Used to execute a block of code if a condition is true.\n",
        "      2. If-Else Statement: Used to execute one block of code if a condition is true and another block if it's false.\n",
        "     3. If-Elif-Else Statement: Used to check multiple conditions and execute different blocks of code.\n",
        "\n",
        "\n",
        "\n"
      ],
      "metadata": {
        "id": "W5Bnrq-DeiVn"
      }
    },
    {
      "cell_type": "code",
      "source": [
        "#EXAMPLE\n",
        "#If Statement:\n",
        "\n",
        "x = 5\n",
        "if x > 10:\n",
        "    print(\"x is greater than 10\")\n",
        "\n",
        "#If-Else Statement:\n",
        "\n",
        "x = 5\n",
        "if x > 10:\n",
        "    print(\"x is greater than 10\")\n",
        "else:\n",
        "    print(\"x is less than or equal to 10\")\n",
        "\n",
        "#If-Elif-Else Statement:\n",
        "\n",
        "x = 5\n",
        "if x > 10:\n",
        "    print(\"x is greater than 10\")\n",
        "elif x == 5:\n",
        "    print(\"x is equal to 5\")\n",
        "else:\n",
        "    print(\"x is less than 5\")\n",
        "\n",
        "\n",
        "\n"
      ],
      "metadata": {
        "colab": {
          "base_uri": "https://localhost:8080/"
        },
        "id": "cMrrwRlAd15M",
        "outputId": "443615cd-08be-4233-bd58-94422541be68"
      },
      "execution_count": 7,
      "outputs": [
        {
          "output_type": "stream",
          "name": "stdout",
          "text": [
            "x is less than or equal to 10\n",
            "x is equal to 5\n"
          ]
        }
      ]
    },
    {
      "cell_type": "markdown",
      "source": [
        " 7.Describe the different types of loops in Python and their use cases with examples.\n",
        "\n",
        "     ->Types of Loops in Python:\n",
        "\n",
        "       1. For Loop: Used to iterate over a sequence (list, tuple, string, etc) or a range of numbers.\n",
        "       2. While Loop: Used to execute a block of code as long as a condition is true.\n",
        "\n",
        "       Use Cases:\n",
        "      1. For Loop:\n",
        "        - Iterating over a collection of\n",
        "          data.\n",
        "        - Performing a task a fixed number of times.\n",
        "     2. While Loop:\n",
        "        - Executing a block of code while  \n",
        "          a condition is true.\n",
        "        - Handling uncertain or dynamic\n",
        "          iterations.\n",
        "\n",
        "        "
      ],
      "metadata": {
        "id": "qXKG453asqyp"
      }
    },
    {
      "cell_type": "code",
      "source": [
        "#EXAMPLE\n",
        "#For Loop:\n",
        "ruits = [\"apple\", \"banana\", \"cherry\"]\n",
        "for fruit in fruits:\n",
        "    print(fruit)\n",
        "\n",
        "#While Loop:\n",
        "\n",
        "i = 0\n",
        "while i < 5:\n",
        "    print(i)\n",
        "    i += 1\n",
        "\n"
      ],
      "metadata": {
        "id": "eGjWbDTItZlH"
      },
      "execution_count": null,
      "outputs": []
    }
  ]
}